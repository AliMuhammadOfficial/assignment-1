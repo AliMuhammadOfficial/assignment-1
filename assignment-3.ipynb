{
 "cells": [
  {
   "cell_type": "markdown",
   "metadata": {},
   "source": [
    "## 1 : Simple calculator for addition subtraction multiplication division and power."
   ]
  },
  {
   "cell_type": "code",
   "execution_count": 1,
   "metadata": {},
   "outputs": [
    {
     "name": "stdout",
     "output_type": "stream",
     "text": [
      "| Choose operator   |\n",
      "+---+---------------+---+-------------+\n",
      "| A | Addition      | S | Subtraction |\n",
      "+---+---------------+---+-------------+\n",
      "| M |Multiplication | D | Division    |\n",
      "+---+---------------+---+-------------+\n",
      "| P | Power         | - | --------    | \n",
      "+---+---------------+---+-------------+\n",
      " \n",
      "Choose operator  >>  p\n",
      "Please enter base  >>  10\n",
      "Please enter power  >>  2\n",
      "100\n"
     ]
    }
   ],
   "source": [
    "print(\"\"\"| Choose operator   |\n",
    "+---+---------------+---+-------------+\n",
    "| A | Addition      | S | Subtraction |\n",
    "+---+---------------+---+-------------+\n",
    "| M |Multiplication | D | Division    |\n",
    "+---+---------------+---+-------------+\n",
    "| P | Power         | - | --------    | \n",
    "+---+---------------+---+-------------+\n",
    " \"\"\")\n",
    "operator = input(\"Choose operator  >>  \").strip()\n",
    "if operator.upper() == \"A\":\n",
    "    fnum = int(input(\"Please enter first number  >>  \"))\n",
    "    snum = int(input(\"Please enter second number  >>  \"))\n",
    "    ans = fnum + snum\n",
    "    print(ans)\n",
    "elif operator.upper() == \"S\":\n",
    "    fnum = int(input(\"Please enter first number  >>  \"))\n",
    "    snum = int(input(\"Please enter second number  >>  \"))\n",
    "    ans = fnum - snum\n",
    "    print(ans)\n",
    "elif operator.upper() == \"M\":\n",
    "    fnum = int(input(\"Please enter first number  >>  \"))\n",
    "    snum = int(input(\"Please enter second number  >>  \"))\n",
    "    ans = fnum * snum\n",
    "    print(ans)\n",
    "elif operator.upper() == \"D\":\n",
    "    fnum = int(input(\"Please enter first number  >>  \"))\n",
    "    snum = int(input(\"Please enter second number  >>  \"))\n",
    "    ans = fnum / snum\n",
    "    print(ans)\n",
    "elif operator.upper() == \"P\":\n",
    "    fnum = int(input(\"Please enter base  >>  \"))\n",
    "    snum = int(input(\"Please enter power  >>  \"))\n",
    "    ans = fnum ** snum\n",
    "    print(ans)"
   ]
  },
  {
   "cell_type": "markdown",
   "metadata": {},
   "source": [
    "## 2 : Program to check if there is any numeric value in list using for loop."
   ]
  },
  {
   "cell_type": "code",
   "execution_count": 7,
   "metadata": {},
   "outputs": [
    {
     "name": "stdout",
     "output_type": "stream",
     "text": [
      "4 is numeric\n",
      "2 is numeric\n",
      "12 is numeric\n",
      "23 is numeric\n",
      "50 is numeric\n"
     ]
    }
   ],
   "source": [
    "a_list = [\"alpha\",\"4\" ,2, \"bravo\", \"charlie\", 12, 23, \"python\", 50]\n",
    "for val in a_list:\n",
    "    if type(val) != int:\n",
    "        if val.isnumeric():\n",
    "            print(val, \"is numeric\")\n",
    "    else:\n",
    "        print(val, \"is numeric\")"
   ]
  },
  {
   "cell_type": "markdown",
   "metadata": {},
   "source": [
    "## 3 : Python programe for adding a key into a dictionary."
   ]
  },
  {
   "cell_type": "code",
   "execution_count": 3,
   "metadata": {},
   "outputs": [],
   "source": [
    "contacts = {\"ali\" : \"03113739195\", \"asim\": \"03000000000\", \"suhail\": \"03111111111\"}\n",
    "contacts[\"majid\"] = \"03444444444\""
   ]
  },
  {
   "cell_type": "markdown",
   "metadata": {},
   "source": [
    "## 4 : Python program that sums all the numeric items in a dictionary."
   ]
  },
  {
   "cell_type": "code",
   "execution_count": 4,
   "metadata": {},
   "outputs": [
    {
     "name": "stdout",
     "output_type": "stream",
     "text": [
      "Sum using for loop 130\n",
      "Sum using sum() function 130\n"
     ]
    }
   ],
   "source": [
    "items = {\"mango\": 40, \"apple\": 60, \"orange\": 30}\n",
    "total = 0\n",
    "for price in items.values():\n",
    "    total = total + price\n",
    "print(\"Sum using for loop\", total)\n",
    "print(\"Sum using sum() function\", sum(items.values()))"
   ]
  },
  {
   "cell_type": "markdown",
   "metadata": {},
   "source": [
    "## 5 : Program that identifies duplicate values in the list."
   ]
  },
  {
   "cell_type": "code",
   "execution_count": 5,
   "metadata": {},
   "outputs": [
    {
     "name": "stdout",
     "output_type": "stream",
     "text": [
      "lg is duplicate in the list\n",
      "oppo is duplicate in the list\n",
      "['samsung', 'lg', 'nokia', 'oppo']\n"
     ]
    }
   ],
   "source": [
    "brands = [\"samsung\", \"lg\", \"nokia\", \"oppo\", \"lg\", \"oppo\"]\n",
    "unique = []\n",
    "for brand in brands:\n",
    "    if brand not in unique:\n",
    "        unique.append(brand)\n",
    "    else:\n",
    "        print(brand, \"is duplicate in the list\")\n",
    "print( unique )"
   ]
  },
  {
   "cell_type": "markdown",
   "metadata": {},
   "source": [
    "##  6 : Python programe that checks if a given key already exists in a dictionary."
   ]
  },
  {
   "cell_type": "code",
   "execution_count": 6,
   "metadata": {},
   "outputs": [
    {
     "name": "stdout",
     "output_type": "stream",
     "text": [
      "Please enter name to check exits in the dictionary  >>  asim\n",
      "asim exists in the dictionary\n"
     ]
    }
   ],
   "source": [
    "contacts = {\"ali\": \"xyz\", \"asim\" : \"abc\", \"majid\": \"03xx\"}\n",
    "name = input(\"Please enter name to check exits in the dictionary  >>  \")\n",
    "if name.lower() in contacts.keys():\n",
    "    print(name ,\"exists in the dictionary\")\n",
    "else:\n",
    "    print(name, \"does not exists in the dictionary\")"
   ]
  }
 ],
 "metadata": {
  "kernelspec": {
   "display_name": "Python 3",
   "language": "python",
   "name": "python3"
  },
  "language_info": {
   "codemirror_mode": {
    "name": "ipython",
    "version": 3
   },
   "file_extension": ".py",
   "mimetype": "text/x-python",
   "name": "python",
   "nbconvert_exporter": "python",
   "pygments_lexer": "ipython3",
   "version": "3.7.3"
  }
 },
 "nbformat": 4,
 "nbformat_minor": 2
}
