{
 "cells": [
  {
   "cell_type": "markdown",
   "metadata": {},
   "source": [
    "## Generating mark sheet using grades."
   ]
  },
  {
   "cell_type": "code",
   "execution_count": 1,
   "metadata": {},
   "outputs": [
    {
     "name": "stdout",
     "output_type": "stream",
     "text": [
      "Please enter python Marks >>> 97\n",
      "Please enter git Marks >>> 94\n",
      "Please enter numpy Marks >>> 96\n",
      "Please enter pandas Marks >>> 93\n",
      "Please enter matplotlib Marks >>> 91\n",
      "| python  ======>  97 |\n",
      "| git  ======>  94 |\n",
      "| numpy  ======>  96 |\n",
      "| pandas  ======>  93 |\n",
      "| matplotlib  ======>  91 |\n",
      "_________________\n",
      "Total Marks  471\n",
      "Percentage 94.19999999999999%\n",
      "A Grade\n"
     ]
    }
   ],
   "source": [
    "subjects = [\"python\", \"git\", \"numpy\", \"pandas\", \"matplotlib\"]\n",
    "subject_marks = []\n",
    "total_marks = 500\n",
    "total_obtained = 0\n",
    "\n",
    "for i in range(len(subjects)):\n",
    "    current = int(input(\"Please enter \" + subjects[i] + \" Marks >>> \"))\n",
    "    subject_marks.append(current)\n",
    "    total_obtained = total_obtained + current\n",
    "    \n",
    "for i in range(len(subjects)) :\n",
    "    print(\"|\",subjects[i], \" ======> \", subject_marks[i], \"|\")\n",
    "    \n",
    "percentage = ( total_obtained / total_marks) * 100\n",
    "\n",
    "print(\"_________________\")\n",
    "print(\"Total Marks \", total_obtained)\n",
    "print(\"Percentage \"+ str(percentage) + \"%\")\n",
    "if percentage > 78 and percentage < 100 :\n",
    "    print(\"A Grade\")\n",
    "elif percentage > 40 and percentage < 78 :\n",
    "    print(\"B Grade\")\n",
    "elif percentage > 22 and percentage < 40 :\n",
    "    print(\"C Grade\")\n",
    "elif percentage >0 and percentage < 22 :\n",
    "    print(\"D Grade\")\n",
    "else:\n",
    "    print(\"Please Enter valid marks\")"
   ]
  },
  {
   "cell_type": "markdown",
   "metadata": {},
   "source": [
    " ## identifying that the given number is even or odd."
   ]
  },
  {
   "cell_type": "code",
   "execution_count": 2,
   "metadata": {},
   "outputs": [
    {
     "name": "stdout",
     "output_type": "stream",
     "text": [
      "Please enter a number to verify that given number is even or odd >> 87\n",
      "87 is Odd\n"
     ]
    }
   ],
   "source": [
    "number = input(\"Please enter a number to verify that given number is even or odd >> \")\n",
    "if int(number) % 2 == 0 :\n",
    "    print(number + \" is Even\")\n",
    "else :\n",
    "    print(number + \" is Odd\")"
   ]
  },
  {
   "cell_type": "markdown",
   "metadata": {},
   "source": [
    "## program that prints the length of the list."
   ]
  },
  {
   "cell_type": "code",
   "execution_count": 3,
   "metadata": {},
   "outputs": [
    {
     "name": "stdout",
     "output_type": "stream",
     "text": [
      "There are  5 programming languages in the list\n"
     ]
    }
   ],
   "source": [
    "languages = [\"C\", \"C++\", \"Java\", \"Python\", \"PHP\"]\n",
    "print(\"There are \", len(languages), \"programming languages in the list\")"
   ]
  },
  {
   "cell_type": "markdown",
   "metadata": {},
   "source": [
    "## program that sums all the numeric items in the list."
   ]
  },
  {
   "cell_type": "code",
   "execution_count": 4,
   "metadata": {},
   "outputs": [
    {
     "name": "stdout",
     "output_type": "stream",
     "text": [
      "Sum using sum function 140\n",
      "Sum using for loop 140\n"
     ]
    }
   ],
   "source": [
    "list_of_nums = [1, 4, 9, 16, 25, 36, 49]\n",
    "print(\"Sum using sum function\", sum(list_of_nums))\n",
    "sum_of_nums = 0\n",
    "for num in list_of_nums:\n",
    "    sum_of_nums = sum_of_nums + num\n",
    "print(\"Sum using for loop\", sum_of_nums)"
   ]
  },
  {
   "cell_type": "markdown",
   "metadata": {},
   "source": [
    "## program that gets the largest number from the numeric list."
   ]
  },
  {
   "cell_type": "code",
   "execution_count": 5,
   "metadata": {},
   "outputs": [
    {
     "name": "stdout",
     "output_type": "stream",
     "text": [
      "Largest number in the list using max() function.  212\n",
      "Largest number using loop and if 212\n"
     ]
    }
   ],
   "source": [
    "a = [1, 23,212, 17, 25, 38, 59, 8, 13, 100, 21, 34, 55, 89]\n",
    "print(\"Largest number in the list using max() function. \", max(a))\n",
    "\n",
    "largest = 0\n",
    "for num in a:\n",
    "    if num > largest:\n",
    "        largest = num\n",
    "print(\"Largest number using loop and if\", largest)"
   ]
  },
  {
   "cell_type": "markdown",
   "metadata": {},
   "source": [
    "## program that prints all the elements of the list that are less than 5."
   ]
  },
  {
   "cell_type": "code",
   "execution_count": 6,
   "metadata": {},
   "outputs": [
    {
     "name": "stdout",
     "output_type": "stream",
     "text": [
      "[1, 1, 2, 3, 5, 8, 13, 21, 34, 55, 89]\n",
      "In the above list 1 is less than 5\n",
      "In the above list 1 is less than 5\n",
      "In the above list 2 is less than 5\n",
      "In the above list 3 is less than 5\n"
     ]
    }
   ],
   "source": [
    "a = [1, 1, 2, 3, 5, 8, 13, 21, 34, 55, 89]\n",
    "print(a)\n",
    "for x in a:\n",
    "    if x < 5:\n",
    "        print(\"In the above list\", x, \"is less than 5\")"
   ]
  },
  {
   "cell_type": "code",
   "execution_count": null,
   "metadata": {},
   "outputs": [],
   "source": []
  }
 ],
 "metadata": {
  "kernelspec": {
   "display_name": "Python 3",
   "language": "python",
   "name": "python3"
  },
  "language_info": {
   "codemirror_mode": {
    "name": "ipython",
    "version": 3
   },
   "file_extension": ".py",
   "mimetype": "text/x-python",
   "name": "python",
   "nbconvert_exporter": "python",
   "pygments_lexer": "ipython3",
   "version": "3.7.3"
  }
 },
 "nbformat": 4,
 "nbformat_minor": 2
}
