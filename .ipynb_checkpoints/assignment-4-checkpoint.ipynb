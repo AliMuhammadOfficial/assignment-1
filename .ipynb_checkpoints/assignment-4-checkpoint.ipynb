{
 "cells": [
  {
   "cell_type": "code",
   "execution_count": 20,
   "metadata": {},
   "outputs": [
    {
     "name": "stdout",
     "output_type": "stream",
     "text": [
      "-----------------------------\n",
      "| firt_name | Muhammad |\n",
      "-----------------------------\n",
      "| last_name | Asim |\n",
      "-----------------------------\n",
      "| age | 19 |\n",
      "-----------------------------\n",
      "| city | Tando Ghulam Hyder |\n",
      "-----------------------------\n",
      "\n",
      "\n",
      "After Adding Qualification\n",
      "\n",
      "-----------------------------\n",
      "| firt_name | Muhammad |\n",
      "-----------------------------\n",
      "| last_name | Asim |\n",
      "-----------------------------\n",
      "| age | 19 |\n",
      "-----------------------------\n",
      "| city | Tando Ghulam Hyder |\n",
      "-----------------------------\n",
      "| qualification | Intermediate |\n",
      "-----------------------------\n",
      "\n",
      "\n",
      "After Updating Qualification\n",
      "\n",
      "-----------------------------\n",
      "| firt_name | Muhammad |\n",
      "-----------------------------\n",
      "| last_name | Asim |\n",
      "-----------------------------\n",
      "| age | 19 |\n",
      "-----------------------------\n",
      "| city | Tando Ghulam Hyder |\n",
      "-----------------------------\n",
      "| qualification | BE |\n",
      "-----------------------------\n",
      "\n",
      "\n",
      "After Removing Qualification\n",
      "\n",
      "-----------------------------\n",
      "| firt_name | Muhammad |\n",
      "-----------------------------\n",
      "| last_name | Asim |\n",
      "-----------------------------\n",
      "| age | 19 |\n",
      "-----------------------------\n",
      "| city | Tando Ghulam Hyder |\n",
      "-----------------------------\n"
     ]
    }
   ],
   "source": [
    "person = {\n",
    "    \"firt_name\": \"Muhammad\", \n",
    "    \"last_name\": \"Asim\", \n",
    "    \"age\": 19, \n",
    "    \"city\": \"Tando Ghulam Hyder\"\n",
    "}\n",
    "\n",
    "for k, v in person.items() :\n",
    "    print(\"-----------------------------\")\n",
    "    print(\"| {} | {} |\".format(k,v))\n",
    "print(\"-----------------------------\")\n",
    "\n",
    "person[\"qualification\"] = \"Intermediate\"\n",
    "print(\"\\n\\nAfter Adding Qualification\\n\")\n",
    "for k, v in person.items() :\n",
    "    print(\"-----------------------------\")\n",
    "    print(\"| {} | {} |\".format(k,v))\n",
    "print(\"-----------------------------\")\n",
    "\n",
    "person[\"qualification\"] = \"BE\"\n",
    "print(\"\\n\\nAfter Updating Qualification\\n\")\n",
    "for k, v in person.items() :\n",
    "    print(\"-----------------------------\")\n",
    "    print(\"| {} | {} |\".format(k,v))\n",
    "print(\"-----------------------------\")\n",
    "\n",
    "del person[\"qualification\"]\n",
    "print(\"\\n\\nAfter Removing Qualification\\n\")\n",
    "for k, v in person.items() :\n",
    "    print(\"-----------------------------\")\n",
    "    print(\"| {} | {} |\".format(k,v))\n",
    "print(\"-----------------------------\")"
   ]
  },
  {
   "cell_type": "code",
   "execution_count": 43,
   "metadata": {},
   "outputs": [
    {
     "name": "stdout",
     "output_type": "stream",
     "text": [
      "City Karachi\n",
      "\n",
      "- country : Pakistan\n",
      "- population : 2000000\n",
      "- fact : City Of Lights\n",
      "City Dubai\n",
      "\n",
      "- country : UAE\n",
      "- population : 232321\n",
      "- fact : do firts, or do big\n",
      "City Shinghai\n",
      "\n",
      "- country : China\n",
      "- population : 32131232\n",
      "- fact : Technology Hub\n"
     ]
    }
   ],
   "source": [
    "cities = {\n",
    "    \"Karachi\": {\"country\": \"Pakistan\", \"population\": 2000000, \"fact\": \"City Of Lights\"},\n",
    "    \"Dubai\": {\"country\":\"UAE\", \"population\": 232321, \"fact\": \"do firts, or do big\"},\n",
    "    \"Shinghai\": {\"country\": \"China\", \"population\": 32131232, \"fact\": \"Technology Hub\"}\n",
    "}\n",
    "\n",
    "for city, info in cities.items():\n",
    "    print(\"City\", city)\n",
    "    print()\n",
    "    for k, v in info.items():\n",
    "        print(\"-\",k, \":\",v)"
   ]
  },
  {
   "cell_type": "code",
   "execution_count": null,
   "metadata": {},
   "outputs": [],
   "source": []
  }
 ],
 "metadata": {
  "kernelspec": {
   "display_name": "Python 3",
   "language": "python",
   "name": "python3"
  },
  "language_info": {
   "codemirror_mode": {
    "name": "ipython",
    "version": 3
   },
   "file_extension": ".py",
   "mimetype": "text/x-python",
   "name": "python",
   "nbconvert_exporter": "python",
   "pygments_lexer": "ipython3",
   "version": "3.7.3"
  }
 },
 "nbformat": 4,
 "nbformat_minor": 2
}
