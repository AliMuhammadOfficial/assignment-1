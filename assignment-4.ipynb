{
 "cells": [
  {
   "cell_type": "code",
   "execution_count": 6,
   "metadata": {},
   "outputs": [
    {
     "name": "stdout",
     "output_type": "stream",
     "text": [
      "-----------------------------\n",
      "| firt_name | Muhammad |\n",
      "-----------------------------\n",
      "| last_name | Asim |\n",
      "-----------------------------\n",
      "| age | 19 |\n",
      "-----------------------------\n",
      "| city | Tando Ghulam Hyder |\n",
      "-----------------------------\n",
      "\n",
      "\n",
      "After Adding Qualification\n",
      "\n",
      "-----------------------------\n",
      "| firt_name | Muhammad |\n",
      "-----------------------------\n",
      "| last_name | Asim |\n",
      "-----------------------------\n",
      "| age | 19 |\n",
      "-----------------------------\n",
      "| city | Tando Ghulam Hyder |\n",
      "-----------------------------\n",
      "| qualification | Intermediate |\n",
      "-----------------------------\n",
      "\n",
      "\n",
      "After Updating Qualification\n",
      "\n",
      "-----------------------------\n",
      "| firt_name | Muhammad |\n",
      "-----------------------------\n",
      "| last_name | Asim |\n",
      "-----------------------------\n",
      "| age | 19 |\n",
      "-----------------------------\n",
      "| city | Tando Ghulam Hyder |\n",
      "-----------------------------\n",
      "| qualification | BE |\n",
      "-----------------------------\n",
      "\n",
      "\n",
      "After Removing Qualification\n",
      "\n",
      "-----------------------------\n",
      "| firt_name | Muhammad |\n",
      "-----------------------------\n",
      "| last_name | Asim |\n",
      "-----------------------------\n",
      "| age | 19 |\n",
      "-----------------------------\n",
      "| city | Tando Ghulam Hyder |\n",
      "-----------------------------\n"
     ]
    }
   ],
   "source": [
    "person = {\n",
    "    \"firt_name\": \"Muhammad\", \n",
    "    \"last_name\": \"Asim\", \n",
    "    \"age\": 19, \n",
    "    \"city\": \"Tando Ghulam Hyder\"\n",
    "}\n",
    "\n",
    "for k, v in person.items() :\n",
    "    print(\"-----------------------------\")\n",
    "    print(\"| {} | {} |\".format(k,v))\n",
    "print(\"-----------------------------\")\n",
    "\n",
    "person[\"qualification\"] = \"Intermediate\"\n",
    "print(\"\\n\\nAfter Adding Qualification\\n\")\n",
    "for k, v in person.items() :\n",
    "    print(\"-----------------------------\")\n",
    "    print(\"| {} | {} |\".format(k,v))\n",
    "print(\"-----------------------------\")\n",
    "\n",
    "person[\"qualification\"] = \"BE\"\n",
    "print(\"\\n\\nAfter Updating Qualification\\n\")\n",
    "for k, v in person.items() :\n",
    "    print(\"-----------------------------\")\n",
    "    print(\"| {} | {} |\".format(k,v))\n",
    "print(\"-----------------------------\")\n",
    "\n",
    "del person[\"qualification\"]\n",
    "print(\"\\n\\nAfter Removing Qualification\\n\")\n",
    "for k, v in person.items() :\n",
    "    print(\"-----------------------------\")\n",
    "    print(\"| {} | {} |\".format(k,v))\n",
    "print(\"-----------------------------\")"
   ]
  },
  {
   "cell_type": "code",
   "execution_count": 7,
   "metadata": {},
   "outputs": [
    {
     "name": "stdout",
     "output_type": "stream",
     "text": [
      "City Karachi\n",
      "\n",
      "- country : Pakistan\n",
      "- population : 2000000\n",
      "- fact : City Of Lights\n",
      "City Dubai\n",
      "\n",
      "- country : UAE\n",
      "- population : 232321\n",
      "- fact : do firts, or do big\n",
      "City Shinghai\n",
      "\n",
      "- country : China\n",
      "- population : 32131232\n",
      "- fact : Technology Hub\n"
     ]
    }
   ],
   "source": [
    "cities = {\n",
    "    \"Karachi\": {\"country\": \"Pakistan\", \"population\": 2000000, \"fact\": \"City Of Lights\"},\n",
    "    \"Dubai\": {\"country\":\"UAE\", \"population\": 232321, \"fact\": \"do firts, or do big\"},\n",
    "    \"Shinghai\": {\"country\": \"China\", \"population\": 32131232, \"fact\": \"Technology Hub\"}\n",
    "}\n",
    "\n",
    "for city, info in cities.items():\n",
    "    print(\"City\", city)\n",
    "    print()\n",
    "    for k, v in info.items():\n",
    "        print(\"-\",k, \":\",v)"
   ]
  },
  {
   "cell_type": "code",
   "execution_count": 8,
   "metadata": {},
   "outputs": [
    {
     "name": "stdout",
     "output_type": "stream",
     "text": [
      "Welcome To Python Movie Theater.\n",
      "\n",
      "\n",
      "To Exit press Q \n",
      "Please enter your age.\n",
      "q\n"
     ]
    }
   ],
   "source": [
    "loop = True\n",
    "print(\"Welcome To Python Movie Theater.\\n\")\n",
    "while loop:\n",
    "    print(\"\\nTo Exit press Q \\nPlease enter your age.\")\n",
    "    age = input()\n",
    "    \n",
    "    if age.upper() == \"Q\":\n",
    "        loop = False\n",
    "    elif int(age) < 0:\n",
    "        print(\"Pleae enter valid age.\")\n",
    "    elif  int(age) < 4:\n",
    "        print(\"Your ticket free\")\n",
    "    elif int(age) > 4 and int(age) < 12:\n",
    "        print(\"Your ticket price is $10\")\n",
    "    else:\n",
    "        print(\"Your ticket price is $12\")"
   ]
  },
  {
   "cell_type": "code",
   "execution_count": 9,
   "metadata": {},
   "outputs": [
    {
     "name": "stdout",
     "output_type": "stream",
     "text": [
      "One of my favorite book is Alice in wonderland.\n"
     ]
    }
   ],
   "source": [
    "def favorite_book(title):\n",
    "    print(\"One of my favorite book is\", title)\n",
    "    \n",
    "favorite_book(\"Alice in wonderland.\")"
   ]
  },
  {
   "cell_type": "code",
   "execution_count": 12,
   "metadata": {},
   "outputs": [
    {
     "name": "stdout",
     "output_type": "stream",
     "text": [
      "Guess a number between 1 and 301\"\n"
     ]
    },
    {
     "ename": "ValueError",
     "evalue": "invalid literal for int() with base 10: '1\"'",
     "output_type": "error",
     "traceback": [
      "\u001b[1;31m---------------------------------------------------------------------------\u001b[0m",
      "\u001b[1;31mValueError\u001b[0m                                Traceback (most recent call last)",
      "\u001b[1;32m<ipython-input-12-f7fe5045049e>\u001b[0m in \u001b[0;36m<module>\u001b[1;34m\u001b[0m\n\u001b[0;32m      7\u001b[0m     \u001b[1;32mif\u001b[0m \u001b[0mnum\u001b[0m\u001b[1;33m.\u001b[0m\u001b[0mupper\u001b[0m\u001b[1;33m(\u001b[0m\u001b[1;33m)\u001b[0m \u001b[1;33m==\u001b[0m \u001b[1;34m\"Q\"\u001b[0m\u001b[1;33m:\u001b[0m\u001b[1;33m\u001b[0m\u001b[1;33m\u001b[0m\u001b[0m\n\u001b[0;32m      8\u001b[0m         \u001b[1;32mbreak\u001b[0m\u001b[1;33m\u001b[0m\u001b[1;33m\u001b[0m\u001b[0m\n\u001b[1;32m----> 9\u001b[1;33m     \u001b[1;32melif\u001b[0m \u001b[0mint\u001b[0m\u001b[1;33m(\u001b[0m\u001b[0mnum\u001b[0m\u001b[1;33m)\u001b[0m \u001b[1;33m==\u001b[0m \u001b[0mrnd\u001b[0m\u001b[1;33m:\u001b[0m\u001b[1;33m\u001b[0m\u001b[1;33m\u001b[0m\u001b[0m\n\u001b[0m\u001b[0;32m     10\u001b[0m         \u001b[0mprint\u001b[0m\u001b[1;33m(\u001b[0m\u001b[1;34m\"Your are right hidded number was \"\u001b[0m \u001b[1;33m+\u001b[0m \u001b[0mstr\u001b[0m\u001b[1;33m(\u001b[0m\u001b[0mrnd\u001b[0m\u001b[1;33m)\u001b[0m\u001b[1;33m)\u001b[0m\u001b[1;33m\u001b[0m\u001b[1;33m\u001b[0m\u001b[0m\n\u001b[0;32m     11\u001b[0m         \u001b[1;32mbreak\u001b[0m\u001b[1;33m\u001b[0m\u001b[1;33m\u001b[0m\u001b[0m\n",
      "\u001b[1;31mValueError\u001b[0m: invalid literal for int() with base 10: '1\"'"
     ]
    }
   ],
   "source": [
    "import random\n",
    "rnd = random.randint(1, 30)\n",
    "chanses = 3\n",
    "\n",
    "while chanses > 0:\n",
    "    num = input(\"Guess a number between 1 and 30\")\n",
    "    if num.upper() == \"Q\":\n",
    "        break\n",
    "    elif int(num) == rnd:\n",
    "        print(\"Your are right hidded number was \" + str(rnd))\n",
    "        break\n",
    "    else :\n",
    "        chanses -= 1\n",
    "        if int(num) < rnd:\n",
    "            print(\"The hidden number is greater than \", num)\n",
    "        else:\n",
    "            print(\"The hidden number is less than \", num)\n",
    "\n",
    "print(\"The Hidded number is\", rnd)"
   ]
  },
  {
   "cell_type": "code",
   "execution_count": 16,
   "metadata": {},
   "outputs": [
    {
     "name": "stdout",
     "output_type": "stream",
     "text": [
      "a\"\n"
     ]
    },
    {
     "data": {
      "text/plain": [
       "'1a\"'"
      ]
     },
     "execution_count": 16,
     "metadata": {},
     "output_type": "execute_result"
    }
   ],
   "source": []
  },
  {
   "cell_type": "code",
   "execution_count": null,
   "metadata": {},
   "outputs": [],
   "source": []
  }
 ],
 "metadata": {
  "kernelspec": {
   "display_name": "Python 3",
   "language": "python",
   "name": "python3"
  },
  "language_info": {
   "codemirror_mode": {
    "name": "ipython",
    "version": 3
   },
   "file_extension": ".py",
   "mimetype": "text/x-python",
   "name": "python",
   "nbconvert_exporter": "python",
   "pygments_lexer": "ipython3",
   "version": "3.7.3"
  }
 },
 "nbformat": 4,
 "nbformat_minor": 2
}
